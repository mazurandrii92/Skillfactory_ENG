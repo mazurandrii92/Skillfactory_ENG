{
 "cells": [
  {
   "cell_type": "code",
   "execution_count": 1,
   "metadata": {},
   "outputs": [
    {
     "name": "stdout",
     "output_type": "stream",
     "text": [
      "Yor algorythm goues number in 5 attempts\n"
     ]
    },
    {
     "data": {
      "text/plain": [
       "5"
      ]
     },
     "execution_count": 1,
     "metadata": {},
     "output_type": "execute_result"
    }
   ],
   "source": [
    "import numpy as np\n",
    "\n",
    "\n",
    "def game_core_v3(number):\n",
    "    \n",
    "#  Implement random number and then use the binary search algorithm.  \n",
    "#  It will provide the most efficient search of the random number.\n",
    "#  The function  makes random number, makes algorithm to determaine equality with both numbers and counts tries.\n",
    "\n",
    "    max_number = 100\n",
    "    min_number = 1\n",
    "    count = 1                           \n",
    "    predict = np.random.randint(1,100)   \n",
    "    while number != predict:\n",
    "        count += 1    \n",
    "        predict = (min_number + max_number)//2\n",
    "        if number > predict:\n",
    "            predict += 1\n",
    "            min_number = predict  \n",
    "        elif number < predict: \n",
    "            predict -= 1\n",
    "            max_number = predict\n",
    "            \n",
    "    return(count)\n",
    "\n",
    "\n",
    "def score_game(game_core):\n",
    "    \n",
    "#  Run game 1000 times to determine frecuency positive outcomes of the game \n",
    "\n",
    "    count_ls = []\n",
    "    np.random.seed(1)             # Fix. RANDOM SEED, for reproducibility of the experiment \n",
    "    random_array = np.random.randint(1, 101, size=(1000))\n",
    "    for number in random_array:\n",
    "        count_ls.append(game_core(number))\n",
    "    score = int(np.mean(count_ls))\n",
    "    print(f\"Yor algorythm goues number in {score} attempts\")\n",
    "    \n",
    "    return(score)\n",
    "\n",
    "\n",
    "score_game(game_core_v3)\n"
   ]
  },
  {
   "cell_type": "code",
   "execution_count": null,
   "metadata": {},
   "outputs": [],
   "source": []
  },
  {
   "cell_type": "code",
   "execution_count": null,
   "metadata": {},
   "outputs": [],
   "source": []
  }
 ],
 "metadata": {
  "kernelspec": {
   "display_name": "Python 3",
   "language": "python",
   "name": "python3"
  },
  "language_info": {
   "codemirror_mode": {
    "name": "ipython",
    "version": 3
   },
   "file_extension": ".py",
   "mimetype": "text/x-python",
   "name": "python",
   "nbconvert_exporter": "python",
   "pygments_lexer": "ipython3",
   "version": "3.8.5"
  }
 },
 "nbformat": 4,
 "nbformat_minor": 4
}
