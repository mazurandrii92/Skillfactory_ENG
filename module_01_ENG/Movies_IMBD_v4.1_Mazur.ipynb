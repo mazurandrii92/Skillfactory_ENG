{
 "cells": [
  {
   "cell_type": "code",
   "execution_count": 2,
   "metadata": {
    "_cell_guid": "b1076dfc-b9ad-4769-8c92-a6c4dae69d19",
    "_uuid": "8f2839f25d086af736a60e9eeb907d3b93b6e0e5",
    "colab": {},
    "colab_type": "code",
    "id": "U2D2gTdJVp90"
   },
   "outputs": [],
   "source": [
    "import numpy as np\n",
    "import pandas as pd\n",
    "import seaborn as sns\n",
    "import matplotlib.pyplot as plt\n",
    "from collections import Counter\n",
    "import collections\n",
    "from itertools import combinations"
   ]
  },
  {
   "cell_type": "code",
   "execution_count": 3,
   "metadata": {
    "_cell_guid": "79c7e3d0-c299-4dcb-8224-4455121ee9b0",
    "_uuid": "d629ff2d2480ee46fbb7e2d37f6b5fab8052498a",
    "colab": {},
    "colab_type": "code",
    "id": "oyGfxL3eVp9-"
   },
   "outputs": [
    {
     "data": {
      "text/html": [
       "<div>\n",
       "<style scoped>\n",
       "    .dataframe tbody tr th:only-of-type {\n",
       "        vertical-align: middle;\n",
       "    }\n",
       "\n",
       "    .dataframe tbody tr th {\n",
       "        vertical-align: top;\n",
       "    }\n",
       "\n",
       "    .dataframe thead th {\n",
       "        text-align: right;\n",
       "    }\n",
       "</style>\n",
       "<table border=\"1\" class=\"dataframe\">\n",
       "  <thead>\n",
       "    <tr style=\"text-align: right;\">\n",
       "      <th></th>\n",
       "      <th>imdb_id</th>\n",
       "      <th>budget</th>\n",
       "      <th>revenue</th>\n",
       "      <th>original_title</th>\n",
       "      <th>cast</th>\n",
       "      <th>director</th>\n",
       "      <th>tagline</th>\n",
       "      <th>overview</th>\n",
       "      <th>runtime</th>\n",
       "      <th>genres</th>\n",
       "      <th>production_companies</th>\n",
       "      <th>release_date</th>\n",
       "      <th>vote_average</th>\n",
       "      <th>release_year</th>\n",
       "    </tr>\n",
       "  </thead>\n",
       "  <tbody>\n",
       "    <tr>\n",
       "      <th>1866</th>\n",
       "      <td>tt0160797</td>\n",
       "      <td>60000000</td>\n",
       "      <td>71000000</td>\n",
       "      <td>Rules of Engagement</td>\n",
       "      <td>Tommy Lee Jones|Samuel L. Jackson|Guy Pearce|B...</td>\n",
       "      <td>William Friedkin</td>\n",
       "      <td>A hero should never have to stand alone.</td>\n",
       "      <td>Part war movie, part courtroom thriller, this ...</td>\n",
       "      <td>128</td>\n",
       "      <td>Action|Adventure|Drama|History|War</td>\n",
       "      <td>Paramount Pictures|Seven Arts Pictures|Munich ...</td>\n",
       "      <td>4/7/2000</td>\n",
       "      <td>5.8</td>\n",
       "      <td>2000</td>\n",
       "    </tr>\n",
       "    <tr>\n",
       "      <th>1749</th>\n",
       "      <td>tt0462244</td>\n",
       "      <td>6000000</td>\n",
       "      <td>18197398</td>\n",
       "      <td>Daddy Day Camp</td>\n",
       "      <td>Cuba Gooding Jr.|Tamala Jones|Paul Rae|Lochlyn...</td>\n",
       "      <td>Fred Savage</td>\n",
       "      <td>The summer is going to be in tents.</td>\n",
       "      <td>Seeking to offer his son the satisfying summer...</td>\n",
       "      <td>89</td>\n",
       "      <td>Comedy|Family</td>\n",
       "      <td>Revolution Studios|TriStar Pictures</td>\n",
       "      <td>8/8/2007</td>\n",
       "      <td>4.8</td>\n",
       "      <td>2007</td>\n",
       "    </tr>\n",
       "    <tr>\n",
       "      <th>22</th>\n",
       "      <td>tt2126355</td>\n",
       "      <td>110000000</td>\n",
       "      <td>470490832</td>\n",
       "      <td>San Andreas</td>\n",
       "      <td>Dwayne Johnson|Alexandra Daddario|Carla Gugino...</td>\n",
       "      <td>Brad Peyton</td>\n",
       "      <td>A rescue pilot survived an earthquake, this is...</td>\n",
       "      <td>In the aftermath of a massive earthquake in Ca...</td>\n",
       "      <td>114</td>\n",
       "      <td>Action|Drama|Thriller</td>\n",
       "      <td>New Line Cinema|Village Roadshow Pictures|Warn...</td>\n",
       "      <td>5/27/2015</td>\n",
       "      <td>6.1</td>\n",
       "      <td>2015</td>\n",
       "    </tr>\n",
       "    <tr>\n",
       "      <th>1292</th>\n",
       "      <td>tt1322269</td>\n",
       "      <td>25000000</td>\n",
       "      <td>74188937</td>\n",
       "      <td>August: Osage County</td>\n",
       "      <td>Meryl Streep|Julia Roberts|Chris Cooper|Ewan M...</td>\n",
       "      <td>John Wells</td>\n",
       "      <td>Misery loves family.</td>\n",
       "      <td>A look at the lives of the strong-willed women...</td>\n",
       "      <td>121</td>\n",
       "      <td>Comedy|Drama</td>\n",
       "      <td>Jean Doumanian Productions|Smokehouse Pictures</td>\n",
       "      <td>12/26/2013</td>\n",
       "      <td>6.8</td>\n",
       "      <td>2013</td>\n",
       "    </tr>\n",
       "    <tr>\n",
       "      <th>586</th>\n",
       "      <td>tt0212985</td>\n",
       "      <td>87000000</td>\n",
       "      <td>351692268</td>\n",
       "      <td>Hannibal</td>\n",
       "      <td>Anthony Hopkins|Julianne Moore|Gary Oldman|Ray...</td>\n",
       "      <td>Ridley Scott</td>\n",
       "      <td>His genius undeniable. His evil, unspeakable.</td>\n",
       "      <td>After having successfully eluded the authoriti...</td>\n",
       "      <td>131</td>\n",
       "      <td>Crime|Drama|Thriller|Horror</td>\n",
       "      <td>Universal Pictures|Scott Free Productions|Metr...</td>\n",
       "      <td>2/8/2001</td>\n",
       "      <td>6.3</td>\n",
       "      <td>2001</td>\n",
       "    </tr>\n",
       "  </tbody>\n",
       "</table>\n",
       "</div>"
      ],
      "text/plain": [
       "        imdb_id     budget    revenue        original_title  \\\n",
       "1866  tt0160797   60000000   71000000   Rules of Engagement   \n",
       "1749  tt0462244    6000000   18197398        Daddy Day Camp   \n",
       "22    tt2126355  110000000  470490832           San Andreas   \n",
       "1292  tt1322269   25000000   74188937  August: Osage County   \n",
       "586   tt0212985   87000000  351692268              Hannibal   \n",
       "\n",
       "                                                   cast          director  \\\n",
       "1866  Tommy Lee Jones|Samuel L. Jackson|Guy Pearce|B...  William Friedkin   \n",
       "1749  Cuba Gooding Jr.|Tamala Jones|Paul Rae|Lochlyn...       Fred Savage   \n",
       "22    Dwayne Johnson|Alexandra Daddario|Carla Gugino...       Brad Peyton   \n",
       "1292  Meryl Streep|Julia Roberts|Chris Cooper|Ewan M...        John Wells   \n",
       "586   Anthony Hopkins|Julianne Moore|Gary Oldman|Ray...      Ridley Scott   \n",
       "\n",
       "                                                tagline  \\\n",
       "1866           A hero should never have to stand alone.   \n",
       "1749                The summer is going to be in tents.   \n",
       "22    A rescue pilot survived an earthquake, this is...   \n",
       "1292                               Misery loves family.   \n",
       "586       His genius undeniable. His evil, unspeakable.   \n",
       "\n",
       "                                               overview  runtime  \\\n",
       "1866  Part war movie, part courtroom thriller, this ...      128   \n",
       "1749  Seeking to offer his son the satisfying summer...       89   \n",
       "22    In the aftermath of a massive earthquake in Ca...      114   \n",
       "1292  A look at the lives of the strong-willed women...      121   \n",
       "586   After having successfully eluded the authoriti...      131   \n",
       "\n",
       "                                  genres  \\\n",
       "1866  Action|Adventure|Drama|History|War   \n",
       "1749                       Comedy|Family   \n",
       "22                 Action|Drama|Thriller   \n",
       "1292                        Comedy|Drama   \n",
       "586          Crime|Drama|Thriller|Horror   \n",
       "\n",
       "                                   production_companies release_date  \\\n",
       "1866  Paramount Pictures|Seven Arts Pictures|Munich ...     4/7/2000   \n",
       "1749                Revolution Studios|TriStar Pictures     8/8/2007   \n",
       "22    New Line Cinema|Village Roadshow Pictures|Warn...    5/27/2015   \n",
       "1292     Jean Doumanian Productions|Smokehouse Pictures   12/26/2013   \n",
       "586   Universal Pictures|Scott Free Productions|Metr...     2/8/2001   \n",
       "\n",
       "      vote_average  release_year  \n",
       "1866           5.8          2000  \n",
       "1749           4.8          2007  \n",
       "22             6.1          2015  \n",
       "1292           6.8          2013  \n",
       "586            6.3          2001  "
      ]
     },
     "execution_count": 3,
     "metadata": {},
     "output_type": "execute_result"
    }
   ],
   "source": [
    "data = pd.read_csv('movie_bd_v5.csv')\n",
    "data.sample(5)"
   ]
  },
  {
   "cell_type": "code",
   "execution_count": 4,
   "metadata": {
    "colab": {},
    "colab_type": "code",
    "id": "CoYUnagMVp-C"
   },
   "outputs": [
    {
     "data": {
      "text/html": [
       "<div>\n",
       "<style scoped>\n",
       "    .dataframe tbody tr th:only-of-type {\n",
       "        vertical-align: middle;\n",
       "    }\n",
       "\n",
       "    .dataframe tbody tr th {\n",
       "        vertical-align: top;\n",
       "    }\n",
       "\n",
       "    .dataframe thead th {\n",
       "        text-align: right;\n",
       "    }\n",
       "</style>\n",
       "<table border=\"1\" class=\"dataframe\">\n",
       "  <thead>\n",
       "    <tr style=\"text-align: right;\">\n",
       "      <th></th>\n",
       "      <th>budget</th>\n",
       "      <th>revenue</th>\n",
       "      <th>runtime</th>\n",
       "      <th>vote_average</th>\n",
       "      <th>release_year</th>\n",
       "    </tr>\n",
       "  </thead>\n",
       "  <tbody>\n",
       "    <tr>\n",
       "      <th>count</th>\n",
       "      <td>1.889000e+03</td>\n",
       "      <td>1.889000e+03</td>\n",
       "      <td>1889.000000</td>\n",
       "      <td>1889.000000</td>\n",
       "      <td>1889.000000</td>\n",
       "    </tr>\n",
       "    <tr>\n",
       "      <th>mean</th>\n",
       "      <td>5.431083e+07</td>\n",
       "      <td>1.553653e+08</td>\n",
       "      <td>109.658549</td>\n",
       "      <td>6.140762</td>\n",
       "      <td>2007.860773</td>\n",
       "    </tr>\n",
       "    <tr>\n",
       "      <th>std</th>\n",
       "      <td>4.858721e+07</td>\n",
       "      <td>2.146698e+08</td>\n",
       "      <td>18.017041</td>\n",
       "      <td>0.764763</td>\n",
       "      <td>4.468841</td>\n",
       "    </tr>\n",
       "    <tr>\n",
       "      <th>min</th>\n",
       "      <td>5.000000e+06</td>\n",
       "      <td>2.033165e+06</td>\n",
       "      <td>63.000000</td>\n",
       "      <td>3.300000</td>\n",
       "      <td>2000.000000</td>\n",
       "    </tr>\n",
       "    <tr>\n",
       "      <th>25%</th>\n",
       "      <td>2.000000e+07</td>\n",
       "      <td>3.456058e+07</td>\n",
       "      <td>97.000000</td>\n",
       "      <td>5.600000</td>\n",
       "      <td>2004.000000</td>\n",
       "    </tr>\n",
       "    <tr>\n",
       "      <th>50%</th>\n",
       "      <td>3.800000e+07</td>\n",
       "      <td>8.361541e+07</td>\n",
       "      <td>107.000000</td>\n",
       "      <td>6.100000</td>\n",
       "      <td>2008.000000</td>\n",
       "    </tr>\n",
       "    <tr>\n",
       "      <th>75%</th>\n",
       "      <td>7.200000e+07</td>\n",
       "      <td>1.782626e+08</td>\n",
       "      <td>120.000000</td>\n",
       "      <td>6.600000</td>\n",
       "      <td>2012.000000</td>\n",
       "    </tr>\n",
       "    <tr>\n",
       "      <th>max</th>\n",
       "      <td>3.800000e+08</td>\n",
       "      <td>2.781506e+09</td>\n",
       "      <td>214.000000</td>\n",
       "      <td>8.100000</td>\n",
       "      <td>2015.000000</td>\n",
       "    </tr>\n",
       "  </tbody>\n",
       "</table>\n",
       "</div>"
      ],
      "text/plain": [
       "             budget       revenue      runtime  vote_average  release_year\n",
       "count  1.889000e+03  1.889000e+03  1889.000000   1889.000000   1889.000000\n",
       "mean   5.431083e+07  1.553653e+08   109.658549      6.140762   2007.860773\n",
       "std    4.858721e+07  2.146698e+08    18.017041      0.764763      4.468841\n",
       "min    5.000000e+06  2.033165e+06    63.000000      3.300000   2000.000000\n",
       "25%    2.000000e+07  3.456058e+07    97.000000      5.600000   2004.000000\n",
       "50%    3.800000e+07  8.361541e+07   107.000000      6.100000   2008.000000\n",
       "75%    7.200000e+07  1.782626e+08   120.000000      6.600000   2012.000000\n",
       "max    3.800000e+08  2.781506e+09   214.000000      8.100000   2015.000000"
      ]
     },
     "execution_count": 4,
     "metadata": {},
     "output_type": "execute_result"
    }
   ],
   "source": [
    "data.describe()"
   ]
  },
  {
   "cell_type": "markdown",
   "metadata": {
    "colab_type": "text",
    "id": "DTIt7ezGVp-G"
   },
   "source": [
    "# Preprocessing\n"
   ]
  },
  {
   "cell_type": "code",
   "execution_count": 5,
   "metadata": {
    "colab": {},
    "colab_type": "code",
    "id": "jNb40DwKVp-H"
   },
   "outputs": [],
   "source": [
    "#crate a dictionary for answers\n",
    "\n",
    "answers = {} \n",
    "\n",
    "\n",
    "#the profit is not represented in data, so we need to add column with profit \n",
    "#profit = revenue - budget\n",
    "\n",
    "data['profit'] = data['revenue'] - data['budget']\n",
    "\n",
    "#The new column with a length of movies titles\n",
    "\n",
    "data['title_len'] = data['original_title'].map(lambda s: len(s))\n",
    "\n",
    "#the new column with a length of their overview\n",
    "\n",
    "data['overview_len'] = data['overview'].map(lambda s: len(s.split()))\n",
    "\n",
    "#Some columns consist symbol \"|\".\n",
    "#for further analysis we need to add a new column with separated parameters\n",
    "#for counting every element in the list we will use explode function\n",
    "\n",
    "#add new directors list column\n",
    "\n",
    "data['dir_list'] = data.director.str.split('|')\n",
    "\n",
    "#add new genres  list column\n",
    "\n",
    "data['genres_list'] = data.genres.str.split('|')\n",
    "\n",
    "#add new column with a cast list\n",
    "\n",
    "data['cast_list'] = data.cast.str.split('|')\n",
    "\n",
    "#Add new column with a companies list\n",
    "\n",
    "data['companies_list'] = data.production_companies.str.split('|')\n",
    "\n",
    "#split date in the release date\n",
    "\n",
    "data['month'] = [int(x.split('/')[0]) for x in data['release_date']]\n",
    "\n"
   ]
  },
  {
   "cell_type": "markdown",
   "metadata": {
    "colab_type": "text",
    "id": "YxZaH-nPVp-L"
   },
   "source": [
    "# 1.  Which movie has biggest budget?"
   ]
  },
  {
   "cell_type": "code",
   "execution_count": 6,
   "metadata": {
    "colab": {},
    "colab_type": "code",
    "id": "dZwb3m28Vp-S"
   },
   "outputs": [
    {
     "name": "stdout",
     "output_type": "stream",
     "text": [
      "       imdb_id     budget                               original_title\n",
      "723  tt1298650  380000000  Pirates of the Caribbean: On Stranger Tides\n"
     ]
    }
   ],
   "source": [
    "#variant1\n",
    "\n",
    "max_budget = data[['imdb_id','budget','original_title']].sort_values(['budget'],ascending=False).head(1)\n",
    "print(max_budget)\n",
    "\n",
    "answers['1'] = 'Pirates of the Caribbean: On Stranger Tides (tt1298650)'"
   ]
  },
  {
   "cell_type": "code",
   "execution_count": 7,
   "metadata": {
    "colab": {},
    "colab_type": "code",
    "id": "OGaoQI7rVp-X"
   },
   "outputs": [
    {
     "name": "stdout",
     "output_type": "stream",
     "text": [
      "723    Pirates of the Caribbean: On Stranger Tides\n",
      "Name: original_title, dtype: object\n"
     ]
    }
   ],
   "source": [
    "#variant2\n",
    "\n",
    "max_budget2 = data[data.budget == data.budget.max()].original_title\n",
    "print(max_budget2)"
   ]
  },
  {
   "cell_type": "markdown",
   "metadata": {
    "colab_type": "text",
    "id": "FNRbbI3vVp-c"
   },
   "source": [
    "# 2. Which movie is the longest (in minutes)?"
   ]
  },
  {
   "cell_type": "code",
   "execution_count": 8,
   "metadata": {
    "colab": {},
    "colab_type": "code",
    "id": "vHAoEXNTVp-d"
   },
   "outputs": [
    {
     "name": "stdout",
     "output_type": "stream",
     "text": [
      "        imdb_id  runtime     original_title\n",
      "1157  tt0279111      214  Gods and Generals\n"
     ]
    }
   ],
   "source": [
    "longest_movie = data[['imdb_id','runtime','original_title']].sort_values(['runtime'],ascending=False).head(1)\n",
    "print(longest_movie)\n",
    "\n",
    "answers['2'] = 'Gods and Generals (tt0279111)'"
   ]
  },
  {
   "cell_type": "markdown",
   "metadata": {
    "colab_type": "text",
    "id": "bapLlpW8Vp-k"
   },
   "source": [
    "# 3. Which movie is the shortest (in minutes)?\n",
    "\n",
    "\n",
    "\n"
   ]
  },
  {
   "cell_type": "code",
   "execution_count": 9,
   "metadata": {
    "colab": {},
    "colab_type": "code",
    "id": "YBxaSHuAVp-l"
   },
   "outputs": [
    {
     "name": "stdout",
     "output_type": "stream",
     "text": [
      "       imdb_id  runtime   original_title\n",
      "768  tt1449283       63  Winnie the Pooh\n"
     ]
    }
   ],
   "source": [
    "shortest_movie = data[['imdb_id','runtime','original_title']].sort_values(['runtime'],ascending=True).head(1) \n",
    "print(shortest_movie)\n",
    "\n",
    "answers['3'] = 'Winnie the Pooh (tt1449283)'"
   ]
  },
  {
   "cell_type": "markdown",
   "metadata": {
    "colab_type": "text",
    "id": "TfQbxbfNVp-p"
   },
   "source": [
    "# 4. What is the average duration of the movie?\n"
   ]
  },
  {
   "cell_type": "code",
   "execution_count": 10,
   "metadata": {
    "colab": {},
    "colab_type": "code",
    "id": "5K6dKZYVVp-q"
   },
   "outputs": [
    {
     "name": "stdout",
     "output_type": "stream",
     "text": [
      "110\n"
     ]
    }
   ],
   "source": [
    "mean_runtime = round(data.runtime.mean())   \n",
    "print(mean_runtime)\n",
    "\n",
    "answers['4'] = '110'"
   ]
  },
  {
   "cell_type": "markdown",
   "metadata": {
    "colab_type": "text",
    "id": "r5TvbnT_Vp-u"
   },
   "source": [
    "# 5. What is median number of the movies duration? "
   ]
  },
  {
   "cell_type": "code",
   "execution_count": 11,
   "metadata": {
    "colab": {},
    "colab_type": "code",
    "id": "iBROplKnVp-v"
   },
   "outputs": [
    {
     "name": "stdout",
     "output_type": "stream",
     "text": [
      "107\n"
     ]
    }
   ],
   "source": [
    "median_runtime = data.runtime.median() \n",
    "print(int(median_runtime))\n",
    "\n",
    "answers['5'] = '107'"
   ]
  },
  {
   "cell_type": "markdown",
   "metadata": {
    "colab_type": "text",
    "id": "39P-deDSVp-y"
   },
   "source": [
    "# 6.What movie is the most profitable\n",
    "#### (profit = revenue - budget) "
   ]
  },
  {
   "cell_type": "code",
   "execution_count": 12,
   "metadata": {
    "colab": {},
    "colab_type": "code",
    "id": "UYZh4T9WVp-y"
   },
   "outputs": [
    {
     "name": "stdout",
     "output_type": "stream",
     "text": [
      "       imdb_id original_title      profit     budget     revenue\n",
      "239  tt0499549         Avatar  2544505847  237000000  2781505847\n"
     ]
    }
   ],
   "source": [
    "#use the profit column  \n",
    "profitable_movie = data[['imdb_id','original_title','profit', 'budget', 'revenue']].sort_values(['profit'],ascending=False).head(1) \n",
    "print(profitable_movie)\n",
    "\n",
    "answers['6'] = 'Avatar (tt0499549)'"
   ]
  },
  {
   "cell_type": "markdown",
   "metadata": {
    "colab_type": "text",
    "id": "M99JmIX4Vp-2"
   },
   "source": [
    "# 7. What movie is the most unprofitable?"
   ]
  },
  {
   "cell_type": "code",
   "execution_count": 13,
   "metadata": {
    "colab": {},
    "colab_type": "code",
    "id": "w-D2m4XPVp-3"
   },
   "outputs": [
    {
     "name": "stdout",
     "output_type": "stream",
     "text": [
      "        imdb_id   original_title     profit     budget   revenue\n",
      "1245  tt1210819  The Lone Ranger -165710090  255000000  89289910\n"
     ]
    }
   ],
   "source": [
    "unprofitable_movie = data[['imdb_id','original_title','profit', 'budget', 'revenue']].sort_values(['profit'],ascending=True).head(1) \n",
    "print(unprofitable_movie)\n",
    "\n",
    "answers['7'] = 'The Lone Ranger (tt1210819)'"
   ]
  },
  {
   "cell_type": "markdown",
   "metadata": {
    "colab_type": "text",
    "id": "wEOM5ERVVp-6"
   },
   "source": [
    "# 8. How much movies have profit more than budget?"
   ]
  },
  {
   "cell_type": "code",
   "execution_count": 14,
   "metadata": {
    "colab": {},
    "colab_type": "code",
    "id": "y00_7HD6Vp-7"
   },
   "outputs": [
    {
     "name": "stdout",
     "output_type": "stream",
     "text": [
      "1478\n"
     ]
    }
   ],
   "source": [
    "profits_number = data[data.profit >0]\n",
    "print(len(profits_number))\n",
    "\n",
    "answers['8'] = '1478'"
   ]
  },
  {
   "cell_type": "markdown",
   "metadata": {
    "colab_type": "text",
    "id": "xhpspA9KVp_A"
   },
   "source": [
    "# 9. Which movie was the most grossing in 2008?"
   ]
  },
  {
   "cell_type": "code",
   "execution_count": 15,
   "metadata": {
    "colab": {},
    "colab_type": "code",
    "id": "MoUyQr9RVp_B"
   },
   "outputs": [
    {
     "name": "stdout",
     "output_type": "stream",
     "text": [
      "599    The Dark Knight\n",
      "Name: original_title, dtype: object\n"
     ]
    }
   ],
   "source": [
    "#variant 1\n",
    "year_2008 = data[data.release_year == 2008]  \n",
    "highest_grossing = year_2008[year_2008.revenue == year_2008.revenue.max()].original_title\n",
    "print(highest_grossing)\n",
    "\n",
    "answers['9'] = 'The Dark Knight (tt0468569)'"
   ]
  },
  {
   "cell_type": "code",
   "execution_count": 16,
   "metadata": {
    "colab": {},
    "colab_type": "code",
    "id": "MoUyQr9RVp_B"
   },
   "outputs": [
    {
     "data": {
      "text/html": [
       "<div>\n",
       "<style scoped>\n",
       "    .dataframe tbody tr th:only-of-type {\n",
       "        vertical-align: middle;\n",
       "    }\n",
       "\n",
       "    .dataframe tbody tr th {\n",
       "        vertical-align: top;\n",
       "    }\n",
       "\n",
       "    .dataframe thead th {\n",
       "        text-align: right;\n",
       "    }\n",
       "</style>\n",
       "<table border=\"1\" class=\"dataframe\">\n",
       "  <thead>\n",
       "    <tr style=\"text-align: right;\">\n",
       "      <th></th>\n",
       "      <th>imdb_id</th>\n",
       "      <th>budget</th>\n",
       "      <th>revenue</th>\n",
       "      <th>original_title</th>\n",
       "      <th>cast</th>\n",
       "      <th>director</th>\n",
       "      <th>tagline</th>\n",
       "      <th>overview</th>\n",
       "      <th>runtime</th>\n",
       "      <th>genres</th>\n",
       "      <th>...</th>\n",
       "      <th>vote_average</th>\n",
       "      <th>release_year</th>\n",
       "      <th>profit</th>\n",
       "      <th>title_len</th>\n",
       "      <th>overview_len</th>\n",
       "      <th>dir_list</th>\n",
       "      <th>genres_list</th>\n",
       "      <th>cast_list</th>\n",
       "      <th>companies_list</th>\n",
       "      <th>month</th>\n",
       "    </tr>\n",
       "  </thead>\n",
       "  <tbody>\n",
       "    <tr>\n",
       "      <th>599</th>\n",
       "      <td>tt0468569</td>\n",
       "      <td>185000000</td>\n",
       "      <td>1001921825</td>\n",
       "      <td>The Dark Knight</td>\n",
       "      <td>Christian Bale|Michael Caine|Heath Ledger|Aaro...</td>\n",
       "      <td>Christopher Nolan</td>\n",
       "      <td>Why So Serious?</td>\n",
       "      <td>Batman raises the stakes in his war on crime. ...</td>\n",
       "      <td>152</td>\n",
       "      <td>Drama|Action|Crime|Thriller</td>\n",
       "      <td>...</td>\n",
       "      <td>8.1</td>\n",
       "      <td>2008</td>\n",
       "      <td>816921825</td>\n",
       "      <td>15</td>\n",
       "      <td>67</td>\n",
       "      <td>[Christopher Nolan]</td>\n",
       "      <td>[Drama, Action, Crime, Thriller]</td>\n",
       "      <td>[Christian Bale, Michael Caine, Heath Ledger, ...</td>\n",
       "      <td>[DC Comics, Legendary Pictures, Warner Bros., ...</td>\n",
       "      <td>7</td>\n",
       "    </tr>\n",
       "  </tbody>\n",
       "</table>\n",
       "<p>1 rows × 22 columns</p>\n",
       "</div>"
      ],
      "text/plain": [
       "       imdb_id     budget     revenue   original_title  \\\n",
       "599  tt0468569  185000000  1001921825  The Dark Knight   \n",
       "\n",
       "                                                  cast           director  \\\n",
       "599  Christian Bale|Michael Caine|Heath Ledger|Aaro...  Christopher Nolan   \n",
       "\n",
       "             tagline                                           overview  \\\n",
       "599  Why So Serious?  Batman raises the stakes in his war on crime. ...   \n",
       "\n",
       "     runtime                       genres  ... vote_average release_year  \\\n",
       "599      152  Drama|Action|Crime|Thriller  ...          8.1         2008   \n",
       "\n",
       "        profit  title_len  overview_len             dir_list  \\\n",
       "599  816921825         15            67  [Christopher Nolan]   \n",
       "\n",
       "                          genres_list  \\\n",
       "599  [Drama, Action, Crime, Thriller]   \n",
       "\n",
       "                                             cast_list  \\\n",
       "599  [Christian Bale, Michael Caine, Heath Ledger, ...   \n",
       "\n",
       "                                        companies_list month  \n",
       "599  [DC Comics, Legendary Pictures, Warner Bros., ...     7  \n",
       "\n",
       "[1 rows x 22 columns]"
      ]
     },
     "execution_count": 16,
     "metadata": {},
     "output_type": "execute_result"
    }
   ],
   "source": [
    "#variant2\n",
    "highest_grossing2 = data[data.release_year == 2008].sort_values(['revenue'],ascending=False).head(1) \n",
    "highest_grossing2"
   ]
  },
  {
   "cell_type": "markdown",
   "metadata": {
    "colab_type": "text",
    "id": "Zi4hDKidVp_F"
   },
   "source": [
    "# 10. The most unprofitable movies  in 2012 - 2014 (including)?\n"
   ]
  },
  {
   "cell_type": "code",
   "execution_count": 17,
   "metadata": {
    "colab": {},
    "colab_type": "code",
    "id": "XqyRmufJVp_F"
   },
   "outputs": [
    {
     "name": "stdout",
     "output_type": "stream",
     "text": [
      "1245    The Lone Ranger\n",
      "Name: original_title, dtype: object\n"
     ]
    }
   ],
   "source": [
    "#variant1\n",
    "\n",
    "years2012_2014 = data[data.release_year.isin([2012,2013,2014])]\n",
    "unprofitable2012_2104 = years2012_2014[years2012_2014.profit == years2012_2014.profit.min()].original_title\n",
    "print(unprofitable2012_2104)\n",
    "\n",
    "answers['10'] = 'The Lone Ranger (tt1210819)'"
   ]
  },
  {
   "cell_type": "code",
   "execution_count": 18,
   "metadata": {},
   "outputs": [
    {
     "name": "stdout",
     "output_type": "stream",
     "text": [
      "1245    The Lone Ranger\n",
      "Name: original_title, dtype: object\n"
     ]
    }
   ],
   "source": [
    "#variant2\n",
    "\n",
    "years12_14 = data.query('2012<=release_year<=2014')\n",
    "unprofitable12_14 = years12_14[years12_14.profit == years12_14.profit.min()].original_title\n",
    "print(unprofitable12_14)"
   ]
  },
  {
   "cell_type": "markdown",
   "metadata": {
    "colab_type": "text",
    "id": "EA7Sa9dkVp_I"
   },
   "source": [
    "# 11. Which genre is the most?"
   ]
  },
  {
   "cell_type": "code",
   "execution_count": 19,
   "metadata": {
    "colab": {},
    "colab_type": "code",
    "id": "zsJAwJ8QVp_J"
   },
   "outputs": [
    {
     "name": "stdout",
     "output_type": "stream",
     "text": [
      "Drama    782\n",
      "Name: genres_list, dtype: int64\n"
     ]
    }
   ],
   "source": [
    "#variant1\n",
    "\n",
    "exploded_genres = data.explode('genres_list')\n",
    "common_genres = exploded_genres['genres_list'].value_counts().head(1)\n",
    "print(common_genres)\n",
    "\n",
    "answers['11'] = 'Drama'"
   ]
  },
  {
   "cell_type": "markdown",
   "metadata": {
    "colab_type": "text",
    "id": "Ax6g2C8SVp_M"
   },
   "source": [
    "Variant 2"
   ]
  },
  {
   "cell_type": "code",
   "execution_count": 20,
   "metadata": {
    "colab": {},
    "colab_type": "code",
    "id": "otO3SbrSVp_N"
   },
   "outputs": [
    {
     "name": "stdout",
     "output_type": "stream",
     "text": [
      "Drama    782\n",
      "dtype: int64\n"
     ]
    }
   ],
   "source": [
    "print(pd.Series(data['genres'].str.cat(sep='|').split('|')).value_counts().head(1))"
   ]
  },
  {
   "cell_type": "markdown",
   "metadata": {
    "colab_type": "text",
    "id": "T9_bPWpkVp_Q"
   },
   "source": [
    "# 12. Movies with which genres are the most profitable?"
   ]
  },
  {
   "cell_type": "code",
   "execution_count": 21,
   "metadata": {
    "colab": {},
    "colab_type": "code",
    "id": "Tmt8MaK1Vp_R"
   },
   "outputs": [
    {
     "name": "stdout",
     "output_type": "stream",
     "text": [
      "Drama    560\n",
      "dtype: int64\n"
     ]
    }
   ],
   "source": [
    "#take dataframeprofits_number from task 8 and use on it code from task 11 \n",
    "\n",
    "print(pd.Series(profits_number['genres'].str.cat(sep='|').split('|')).value_counts().head(1))\n",
    "\n",
    "answers['12'] = 'Drama'"
   ]
  },
  {
   "cell_type": "markdown",
   "metadata": {
    "colab_type": "text",
    "id": "0F23bgsDVp_U"
   },
   "source": [
    "# 13. Which director has the highest total revenue?"
   ]
  },
  {
   "cell_type": "code",
   "execution_count": 22,
   "metadata": {
    "colab": {},
    "colab_type": "code",
    "id": "K6Z3J8ygVp_X"
   },
   "outputs": [
    {
     "name": "stdout",
     "output_type": "stream",
     "text": [
      "                  revenue\n",
      "director                 \n",
      "Peter Jackson  6490593685\n"
     ]
    }
   ],
   "source": [
    "grossing_director = data.groupby(['director'])[['revenue']].sum().sort_values(['revenue'],ascending=False).head(1)\n",
    "print(grossing_director)\n",
    "\n",
    "answers['13'] = 'Peter Jackson'"
   ]
  },
  {
   "cell_type": "markdown",
   "metadata": {
    "colab_type": "text",
    "id": "PsYC9FgRVp_a"
   },
   "source": [
    "# 14. Which director made more movies in genre Action?"
   ]
  },
  {
   "cell_type": "code",
   "execution_count": 23,
   "metadata": {
    "colab": {},
    "colab_type": "code",
    "id": "wd2M-wHeVp_b"
   },
   "outputs": [
    {
     "name": "stdout",
     "output_type": "stream",
     "text": [
      "Robert Rodriguez    9\n",
      "Name: dir_list, dtype: int64\n"
     ]
    }
   ],
   "source": [
    "action_movies = data[data.genres.str.contains (\"Action\", na=False)]\n",
    "dir_exploded = action_movies.explode('dir_list')\n",
    "action_director = dir_exploded.dir_list.value_counts().head(1)\n",
    "print(action_director)\n",
    "\n",
    "answers['14'] = 'Robert Rodriguez'"
   ]
  },
  {
   "cell_type": "markdown",
   "metadata": {
    "colab_type": "text",
    "id": "PQ0KciD7Vp_f"
   },
   "source": [
    "# 15. Movies with which actor had the highest revenue in 2012?\n"
   ]
  },
  {
   "cell_type": "code",
   "execution_count": 24,
   "metadata": {
    "colab": {},
    "colab_type": "code",
    "id": "aga62oeKVp_g"
   },
   "outputs": [
    {
     "name": "stdout",
     "output_type": "stream",
     "text": [
      "                    revenue\n",
      "cast_list                  \n",
      "Chris Hemsworth  2027450773\n"
     ]
    }
   ],
   "source": [
    "year_2012 = data[data.release_year == 2012]\n",
    "exploded_actor = year_2012.explode('cast_list')\n",
    "grossing_actor = exploded_actor.groupby(['cast_list'])[['revenue']].sum().sort_values(['revenue'],ascending=False).head(1)\n",
    "print(grossing_actor)\n",
    "\n",
    "\n",
    "answers['15'] = 'Chris Hemsworth'"
   ]
  },
  {
   "cell_type": "markdown",
   "metadata": {
    "colab_type": "text",
    "id": "mWHyyL7QVp_j"
   },
   "source": [
    "# 16.  Which actor has starred in more big-budget films?"
   ]
  },
  {
   "cell_type": "code",
   "execution_count": 25,
   "metadata": {
    "colab": {},
    "colab_type": "code",
    "id": "qQtmHKTFVp_k"
   },
   "outputs": [
    {
     "name": "stdout",
     "output_type": "stream",
     "text": [
      "Matt Damon    18\n",
      "Name: cast_list, dtype: int64\n"
     ]
    }
   ],
   "source": [
    "budget_movie = data[data.budget > data.budget.mean()]\n",
    "exploded_actor2 = budget_movie.explode('cast_list')\n",
    "grossing_actor2 = exploded_actor2.cast_list.value_counts().head(1)\n",
    "print(grossing_actor2)\n",
    "\n",
    "answers['16'] = 'Matt Damon'"
   ]
  },
  {
   "cell_type": "markdown",
   "metadata": {
    "colab_type": "text",
    "id": "NIh6AaW5Vp_n"
   },
   "source": [
    "# 17. What genre has Nicolas Cage done the most? "
   ]
  },
  {
   "cell_type": "code",
   "execution_count": 26,
   "metadata": {
    "colab": {},
    "colab_type": "code",
    "id": "H74SJDIBVp_n"
   },
   "outputs": [
    {
     "name": "stdout",
     "output_type": "stream",
     "text": [
      "Action    17\n",
      "dtype: int64\n"
     ]
    }
   ],
   "source": [
    "Cage = data[data.cast.str.contains (\"Nicolas Cage\", na=False)]\n",
    "print(pd.Series(Cage['genres'].str.cat(sep='|').split('|')).value_counts().head(1))\n",
    "\n",
    "answers['17'] = 'Action'"
   ]
  },
  {
   "cell_type": "markdown",
   "metadata": {
    "colab_type": "text",
    "id": "RqOmPRfWVp_q"
   },
   "source": [
    "# 18. The most unprofitable film from Paramount Pictures?"
   ]
  },
  {
   "cell_type": "code",
   "execution_count": 27,
   "metadata": {
    "colab": {},
    "colab_type": "code",
    "id": "9E_B0Y96Vp_r"
   },
   "outputs": [
    {
     "name": "stdout",
     "output_type": "stream",
     "text": [
      "       imdb_id        original_title    profit\n",
      "925  tt0267626  K-19: The Widowmaker -64831034\n"
     ]
    }
   ],
   "source": [
    "Paramount = data[data.production_companies.str.contains (\"Paramount Pictures\", na=False)]\n",
    "unprofitable_Paramount = Paramount[['imdb_id','original_title','profit']].sort_values(['profit'],ascending=True).head(1) \n",
    "print(unprofitable_Paramount)\n",
    "\n",
    "answers['18'] = 'K-19: The Widowmaker (tt0267626)'"
   ]
  },
  {
   "cell_type": "markdown",
   "metadata": {
    "colab_type": "text",
    "id": "vS8Ur6ddVp_u"
   },
   "source": [
    "# 19. What year was the most successful by the total box office? "
   ]
  },
  {
   "cell_type": "code",
   "execution_count": 28,
   "metadata": {
    "colab": {},
    "colab_type": "code",
    "id": "Dnbt4GdIVp_v"
   },
   "outputs": [
    {
     "name": "stdout",
     "output_type": "stream",
     "text": [
      "                  revenue\n",
      "release_year             \n",
      "2015          25449202382\n"
     ]
    }
   ],
   "source": [
    "best_year = data.groupby(['release_year'])[['revenue']].sum().sort_values(['revenue'],ascending=False).head(1)\n",
    "print(best_year)\n",
    "\n",
    "answers['19'] = '2015'"
   ]
  },
  {
   "cell_type": "markdown",
   "metadata": {
    "colab_type": "text",
    "id": "JAzJh4QAVp_z"
   },
   "source": [
    "# 20. What's the most profitable year for Warner Bros. Studios? "
   ]
  },
  {
   "cell_type": "code",
   "execution_count": 29,
   "metadata": {
    "colab": {},
    "colab_type": "code",
    "id": "wgVu02DEVp_0"
   },
   "outputs": [
    {
     "name": "stdout",
     "output_type": "stream",
     "text": [
      "                 revenue\n",
      "release_year            \n",
      "2014          3243064519\n"
     ]
    }
   ],
   "source": [
    "Warner = data[data.production_companies.str.contains (\"Warner Bros\", na=False)]\n",
    "best_Warner = Warner.groupby(['release_year'])[['revenue']].sum().sort_values(['revenue'],ascending=False).head(1) \n",
    "print(best_Warner)\n",
    "\n",
    "answers['20'] = '2014'"
   ]
  },
  {
   "cell_type": "markdown",
   "metadata": {
    "colab_type": "text",
    "id": "8Im1S2HRVp_4"
   },
   "source": [
    "# 21. In which month for all the years the most films were released in total? "
   ]
  },
  {
   "cell_type": "code",
   "execution_count": 30,
   "metadata": {
    "colab": {},
    "colab_type": "code",
    "id": "lev6TH7gVp_4"
   },
   "outputs": [
    {
     "data": {
      "text/plain": [
       "month\n",
       "9    227\n",
       "dtype: int64"
      ]
     },
     "metadata": {},
     "output_type": "display_data"
    }
   ],
   "source": [
    "pivot_months = data.pivot_table(values='imdb_id',\n",
    "                           index='release_year',\n",
    "                           columns='month',\n",
    "                           fill_value=0,\n",
    "                           aggfunc='count')\n",
    "display(pivot_months.sum().sort_values(ascending=False).head(1))\n",
    "\n",
    "answers['21'] = '9'"
   ]
  },
  {
   "cell_type": "markdown",
   "metadata": {
    "colab_type": "text",
    "id": "uAJsZ_NeVp_7"
   },
   "source": [
    "# 22. How much movies were released in summer? (June. July and August)"
   ]
  },
  {
   "cell_type": "code",
   "execution_count": 31,
   "metadata": {
    "colab": {},
    "colab_type": "code",
    "id": "Aa-hEREoVp_8"
   },
   "outputs": [
    {
     "data": {
      "text/plain": [
       "450"
      ]
     },
     "metadata": {},
     "output_type": "display_data"
    }
   ],
   "source": [
    "display(pivot_months.sum()[5:8].sum())\n",
    "\n",
    "answers['22'] = '450'"
   ]
  },
  {
   "cell_type": "markdown",
   "metadata": {
    "colab_type": "text",
    "id": "G94ppOY1VqAA"
   },
   "source": [
    "# 23. For which director winter is the most productive? "
   ]
  },
  {
   "cell_type": "code",
   "execution_count": 32,
   "metadata": {
    "colab": {},
    "colab_type": "code",
    "id": "RhNTsamuVqAB"
   },
   "outputs": [
    {
     "data": {
      "text/plain": [
       "[('Peter Jackson', 7)]"
      ]
     },
     "metadata": {},
     "output_type": "display_data"
    }
   ],
   "source": [
    "winter = data[(data.month.isin([1,2,12]))] \n",
    "winter_dir = winter.director.str.split('|').sum() \n",
    "display(Counter(winter_dir).most_common(1))\n",
    "\n",
    "answers['23'] = 'Peter Jackson'\n"
   ]
  },
  {
   "cell_type": "markdown",
   "metadata": {
    "colab_type": "text",
    "id": "RBo0JVjVVqAF"
   },
   "source": [
    "# 24. Which studios makes the longest titles for their movies by symbols?"
   ]
  },
  {
   "cell_type": "code",
   "execution_count": 33,
   "metadata": {
    "colab": {},
    "colab_type": "code",
    "id": "QRGS8L0iVqAG"
   },
   "outputs": [
    {
     "name": "stdout",
     "output_type": "stream",
     "text": [
      "companies_list\n",
      "Four By Two Productions    83.0\n",
      "Name: title_len, dtype: float64\n"
     ]
    }
   ],
   "source": [
    "exploded_companies = data.explode('companies_list')\n",
    "title_names = exploded_companies.groupby(['companies_list'])['title_len'].mean().sort_values(ascending=False)\n",
    "print(title_names.head(1))\n",
    "\n",
    "answers['24'] = 'Four By Two Productions'"
   ]
  },
  {
   "cell_type": "markdown",
   "metadata": {
    "colab_type": "text",
    "id": "9G0hbvR7VqAK"
   },
   "source": [
    "# 25. Which studios makes the longest average description for their movies by words?"
   ]
  },
  {
   "cell_type": "code",
   "execution_count": 34,
   "metadata": {
    "colab": {},
    "colab_type": "code",
    "id": "Ge2GsLNxVqAK"
   },
   "outputs": [
    {
     "name": "stdout",
     "output_type": "stream",
     "text": [
      "companies_list\n",
      "Midnight Picture Show    175.0\n",
      "Name: overview_len, dtype: float64\n"
     ]
    }
   ],
   "source": [
    "longest_overview = exploded_companies.groupby(['companies_list'])['overview_len'].mean().sort_values(ascending=False)\n",
    "print(longest_overview.head(1))\n",
    "\n",
    "answers['25']= 'Midnight Picture Show'"
   ]
  },
  {
   "cell_type": "markdown",
   "metadata": {
    "colab_type": "text",
    "id": "FJ1AFt90VqAP"
   },
   "source": [
    "# 26. What movies are the top 1% in the list by vote_average?"
   ]
  },
  {
   "cell_type": "code",
   "execution_count": 35,
   "metadata": {
    "colab": {},
    "colab_type": "code",
    "id": "8qmJVq4CVqAQ"
   },
   "outputs": [
    {
     "name": "stdout",
     "output_type": "stream",
     "text": [
      "                                     original_title  vote_average\n",
      "9                                        Inside Out           8.0\n",
      "34                                             Room           8.0\n",
      "118                                    Interstellar           8.0\n",
      "119                         Guardians of the Galaxy           7.9\n",
      "125                              The Imitation Game           8.0\n",
      "128                                       Gone Girl           7.9\n",
      "138                        The Grand Budapest Hotel           7.9\n",
      "370                                       Inception           7.9\n",
      "599                                 The Dark Knight           8.1\n",
      "872                                     The Pianist           7.9\n",
      "1081  The Lord of the Rings: The Return of the King           7.9\n",
      "1183                        The Wolf of Wall Street           7.9\n",
      "1191                               12 Years a Slave           7.9\n",
      "1800                                        Memento           7.9\n"
     ]
    }
   ],
   "source": [
    "top = data[data['vote_average'] > data['vote_average'].quantile(0.99)][['original_title','vote_average']]\n",
    "print(top)\n",
    "\n",
    "answers['26'] = 'Inside Out, The Dark Knight, 12 Years a Slave'"
   ]
  },
  {
   "cell_type": "markdown",
   "metadata": {
    "colab_type": "text",
    "id": "MdXsUXbCVqAV"
   },
   "source": [
    "# 27. Which actors are most often filmed together? \n"
   ]
  },
  {
   "cell_type": "code",
   "execution_count": 36,
   "metadata": {},
   "outputs": [
    {
     "data": {
      "text/plain": [
       "[('Daniel Radcliffe Rupert Grint', 8)]"
      ]
     },
     "metadata": {},
     "output_type": "display_data"
    }
   ],
   "source": [
    "#variant1\n",
    "couple_list=[] \n",
    "\n",
    "for actors_list in data.cast_list:\n",
    "    for couple in combinations(actors_list, 2):\n",
    "        couple_list.append(' '.join(sorted(couple)))\n",
    "\n",
    "display(Counter(couple_list).most_common()[0:1])\n",
    "\n",
    "answers['27'] = 'Daniel Radcliffe Rupert Grint'"
   ]
  },
  {
   "cell_type": "markdown",
   "metadata": {
    "colab_type": "text",
    "id": "4ymnxEVoVqAW"
   },
   "source": [
    "Variant 2\n"
   ]
  },
  {
   "cell_type": "code",
   "execution_count": 37,
   "metadata": {},
   "outputs": [
    {
     "data": {
      "text/plain": [
       "[(('Daniel Radcliffe', 'Rupert Grint'), 8)]"
      ]
     },
     "execution_count": 37,
     "metadata": {},
     "output_type": "execute_result"
    }
   ],
   "source": [
    "#variant2\n",
    "data['pairs'] = data['cast_list'].apply(lambda s: list(combinations(s, 2)))\n",
    "data = data.explode('pairs')\n",
    "collections.Counter(data['pairs']).most_common(1)"
   ]
  },
  {
   "cell_type": "markdown",
   "metadata": {
    "colab_type": "text",
    "id": "U0nONFnGVqAX"
   },
   "source": [
    "# Submission"
   ]
  },
  {
   "cell_type": "code",
   "execution_count": 38,
   "metadata": {
    "colab": {},
    "colab_type": "code",
    "id": "IfcaRO9-VqAX",
    "outputId": "0f132912-32bb-4196-c98c-abfbc4ad5a5f"
   },
   "outputs": [
    {
     "data": {
      "text/plain": [
       "{'1': 'Pirates of the Caribbean: On Stranger Tides (tt1298650)',\n",
       " '2': 'Gods and Generals (tt0279111)',\n",
       " '3': 'Winnie the Pooh (tt1449283)',\n",
       " '4': '110',\n",
       " '5': '107',\n",
       " '6': 'Avatar (tt0499549)',\n",
       " '7': 'The Lone Ranger (tt1210819)',\n",
       " '8': '1478',\n",
       " '9': 'The Dark Knight (tt0468569)',\n",
       " '10': 'The Lone Ranger (tt1210819)',\n",
       " '11': 'Drama',\n",
       " '12': 'Drama',\n",
       " '13': 'Peter Jackson',\n",
       " '14': 'Robert Rodriguez',\n",
       " '15': 'Chris Hemsworth',\n",
       " '16': 'Matt Damon',\n",
       " '17': 'Action',\n",
       " '18': 'K-19: The Widowmaker (tt0267626)',\n",
       " '19': '2015',\n",
       " '20': '2014',\n",
       " '21': '9',\n",
       " '22': '450',\n",
       " '23': 'Peter Jackson',\n",
       " '24': 'Four By Two Productions',\n",
       " '25': 'Midnight Picture Show',\n",
       " '26': 'Inside Out, The Dark Knight, 12 Years a Slave',\n",
       " '27': 'Daniel Radcliffe Rupert Grint'}"
      ]
     },
     "execution_count": 38,
     "metadata": {},
     "output_type": "execute_result"
    }
   ],
   "source": [
    "# All answers for quastions\n",
    "answers"
   ]
  },
  {
   "cell_type": "code",
   "execution_count": null,
   "metadata": {},
   "outputs": [],
   "source": []
  }
 ],
 "metadata": {
  "colab": {
   "name": "Copy of [SF-DST] Movies IMBD v4.1 TEMPLATE.ipynb",
   "provenance": []
  },
  "kernelspec": {
   "display_name": "Python 3",
   "language": "python",
   "name": "python3"
  },
  "language_info": {
   "codemirror_mode": {
    "name": "ipython",
    "version": 3
   },
   "file_extension": ".py",
   "mimetype": "text/x-python",
   "name": "python",
   "nbconvert_exporter": "python",
   "pygments_lexer": "ipython3",
   "version": "3.8.5"
  }
 },
 "nbformat": 4,
 "nbformat_minor": 1
}
